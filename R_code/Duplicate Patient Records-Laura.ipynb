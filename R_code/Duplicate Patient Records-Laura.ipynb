{
 "cells": [
  {
   "cell_type": "code",
   "execution_count": 6,
   "metadata": {},
   "outputs": [
    {
     "name": "stderr",
     "output_type": "stream",
     "text": [
      "\n",
      "Attaching package: ‘dplyr’\n",
      "\n",
      "\n",
      "The following objects are masked from ‘package:stats’:\n",
      "\n",
      "    filter, lag\n",
      "\n",
      "\n",
      "The following objects are masked from ‘package:base’:\n",
      "\n",
      "    intersect, setdiff, setequal, union\n",
      "\n",
      "\n"
     ]
    }
   ],
   "source": [
    "library(dplyr)\n",
    "#Read in data and save it in df object (original data for comparison)\n",
    "dataFile = '/mnt/workspace/GWTG/COVID19/data/covid19_cvd_aug20.sas7bdat'\n",
    "formatsFile = '/mnt/workspace/GWTG/COVID19/data/R_Python_windows_formats.sas7bcat'\n",
    "\n",
    "## Assigning the dataframe to the dfor object\n",
    "dfor <- haven::read_sas(dataFile, formatsFile)\n"
   ]
  },
  {
   "cell_type": "code",
   "execution_count": 7,
   "metadata": {},
   "outputs": [
    {
     "data": {
      "text/html": [
       "<ol class=list-inline>\n",
       "\t<li>8920</li>\n",
       "\t<li>431</li>\n",
       "</ol>\n"
      ],
      "text/latex": [
       "\\begin{enumerate*}\n",
       "\\item 8920\n",
       "\\item 431\n",
       "\\end{enumerate*}\n"
      ],
      "text/markdown": [
       "1. 8920\n",
       "2. 431\n",
       "\n",
       "\n"
      ],
      "text/plain": [
       "[1] 8920  431"
      ]
     },
     "metadata": {},
     "output_type": "display_data"
    },
    {
     "name": "stdout",
     "output_type": "stream",
     "text": [
      "Original Record, Patient, Hospital Counts"
     ]
    },
    {
     "data": {
      "text/html": [
       "8920"
      ],
      "text/latex": [
       "8920"
      ],
      "text/markdown": [
       "8920"
      ],
      "text/plain": [
       "[1] 8920"
      ]
     },
     "metadata": {},
     "output_type": "display_data"
    },
    {
     "data": {
      "text/html": [
       "8592"
      ],
      "text/latex": [
       "8592"
      ],
      "text/markdown": [
       "8592"
      ],
      "text/plain": [
       "[1] 8592"
      ]
     },
     "metadata": {},
     "output_type": "display_data"
    },
    {
     "data": {
      "text/html": [
       "88"
      ],
      "text/latex": [
       "88"
      ],
      "text/markdown": [
       "88"
      ],
      "text/plain": [
       "[1] 88"
      ]
     },
     "metadata": {},
     "output_type": "display_data"
    },
    {
     "name": "stdout",
     "output_type": "stream",
     "text": [
      "\n",
      " Missing COVCLINTRIAL"
     ]
    },
    {
     "data": {
      "text/html": [
       "48"
      ],
      "text/latex": [
       "48"
      ],
      "text/markdown": [
       "48"
      ],
      "text/plain": [
       "[1] 48"
      ]
     },
     "metadata": {},
     "output_type": "display_data"
    },
    {
     "data": {
      "text/html": [
       "<ol class=list-inline>\n",
       "\t<li>8872</li>\n",
       "\t<li>431</li>\n",
       "</ol>\n"
      ],
      "text/latex": [
       "\\begin{enumerate*}\n",
       "\\item 8872\n",
       "\\item 431\n",
       "\\end{enumerate*}\n"
      ],
      "text/markdown": [
       "1. 8872\n",
       "2. 431\n",
       "\n",
       "\n"
      ],
      "text/plain": [
       "[1] 8872  431"
      ]
     },
     "metadata": {},
     "output_type": "display_data"
    },
    {
     "name": "stdout",
     "output_type": "stream",
     "text": [
      "\n",
      " Complete COVCLINTRIAL Record, Patient, Hospital Counts"
     ]
    },
    {
     "data": {
      "text/html": [
       "8872"
      ],
      "text/latex": [
       "8872"
      ],
      "text/markdown": [
       "8872"
      ],
      "text/plain": [
       "[1] 8872"
      ]
     },
     "metadata": {},
     "output_type": "display_data"
    },
    {
     "data": {
      "text/html": [
       "8545"
      ],
      "text/latex": [
       "8545"
      ],
      "text/markdown": [
       "8545"
      ],
      "text/plain": [
       "[1] 8545"
      ]
     },
     "metadata": {},
     "output_type": "display_data"
    },
    {
     "data": {
      "text/html": [
       "86"
      ],
      "text/latex": [
       "86"
      ],
      "text/markdown": [
       "86"
      ],
      "text/plain": [
       "[1] 86"
      ]
     },
     "metadata": {},
     "output_type": "display_data"
    }
   ],
   "source": [
    "#Print Dimensions\n",
    "dim(dfor)\n",
    "\n",
    "#Print Unique Record ID\n",
    "cat(\"Original Record, Patient, Hospital Counts\")\n",
    "length(unique(dfor$RCRDNUM)) \n",
    "length(unique(dfor$PATIENT_ID))\n",
    "length(unique(dfor$SRC_FAC_ID))\n",
    "\n",
    "#Exclude NA on ClinTrials \n",
    "cat(\"\\n Missing COVCLINTRIAL\")\n",
    "sum(is.na(dfor$COVCLINTRIAL))\n",
    "# 48 rows with NAs for COVCLIN Trail \n",
    "df <- dfor %>% dplyr::filter(!is.na(COVCLINTRIAL))\n",
    "\n",
    "#Print Dimensions\n",
    "dim(df)\n",
    "\n",
    "#Print Unique Record ID\n",
    "cat(\"\\n Complete COVCLINTRIAL Record, Patient, Hospital Counts\")\n",
    "length(unique(df$RCRDNUM)) \n",
    "length(unique(df$PATIENT_ID))\n",
    "length(unique(df$SRC_FAC_ID))\n"
   ]
  },
  {
   "cell_type": "code",
   "execution_count": 13,
   "metadata": {},
   "outputs": [
    {
     "data": {
      "text/html": [
       "375"
      ],
      "text/latex": [
       "375"
      ],
      "text/markdown": [
       "375"
      ],
      "text/plain": [
       "[1] 375"
      ]
     },
     "metadata": {},
     "output_type": "display_data"
    },
    {
     "data": {
      "text/html": [
       "8441"
      ],
      "text/latex": [
       "8441"
      ],
      "text/markdown": [
       "8441"
      ],
      "text/plain": [
       "[1] 8441"
      ]
     },
     "metadata": {},
     "output_type": "display_data"
    },
    {
     "data": {
      "text/html": [
       "8545"
      ],
      "text/latex": [
       "8545"
      ],
      "text/markdown": [
       "8545"
      ],
      "text/plain": [
       "[1] 8545"
      ]
     },
     "metadata": {},
     "output_type": "display_data"
    }
   ],
   "source": [
    "8920-8545 #number of records with duplicate patient IDs\n",
    "8920-48-431 #dimensions using Adriana's counts\n",
    "8920-48-327 #dimensions using Laura's counts"
   ]
  },
  {
   "cell_type": "code",
   "execution_count": 28,
   "metadata": {},
   "outputs": [
    {
     "data": {
      "text/html": [
       "<ol class=list-inline>\n",
       "\t<li>431</li>\n",
       "\t<li>432</li>\n",
       "</ol>\n"
      ],
      "text/latex": [
       "\\begin{enumerate*}\n",
       "\\item 431\n",
       "\\item 432\n",
       "\\end{enumerate*}\n"
      ],
      "text/markdown": [
       "1. 431\n",
       "2. 432\n",
       "\n",
       "\n"
      ],
      "text/plain": [
       "[1] 431 432"
      ]
     },
     "metadata": {},
     "output_type": "display_data"
    },
    {
     "data": {
      "text/html": [
       "104"
      ],
      "text/latex": [
       "104"
      ],
      "text/markdown": [
       "104"
      ],
      "text/plain": [
       "[1] 104"
      ]
     },
     "metadata": {},
     "output_type": "display_data"
    },
    {
     "data": {
      "text/html": [
       "<ol class=list-inline>\n",
       "\t<li>327</li>\n",
       "\t<li>432</li>\n",
       "</ol>\n"
      ],
      "text/latex": [
       "\\begin{enumerate*}\n",
       "\\item 327\n",
       "\\item 432\n",
       "\\end{enumerate*}\n"
      ],
      "text/markdown": [
       "1. 327\n",
       "2. 432\n",
       "\n",
       "\n"
      ],
      "text/plain": [
       "[1] 327 432"
      ]
     },
     "metadata": {},
     "output_type": "display_data"
    },
    {
     "data": {
      "text/html": [
       "<ol class=list-inline>\n",
       "\t<li>327</li>\n",
       "\t<li>432</li>\n",
       "</ol>\n"
      ],
      "text/latex": [
       "\\begin{enumerate*}\n",
       "\\item 327\n",
       "\\item 432\n",
       "\\end{enumerate*}\n"
      ],
      "text/markdown": [
       "1. 327\n",
       "2. 432\n",
       "\n",
       "\n"
      ],
      "text/plain": [
       "[1] 327 432"
      ]
     },
     "metadata": {},
     "output_type": "display_data"
    },
    {
     "data": {
      "text/html": [
       "<table>\n",
       "<caption>A tibble: 6 × 2</caption>\n",
       "<thead>\n",
       "\t<tr><th scope=col>n_records</th><th scope=col>n_patients</th></tr>\n",
       "\t<tr><th scope=col>&lt;int&gt;</th><th scope=col>&lt;int&gt;</th></tr>\n",
       "</thead>\n",
       "<tbody>\n",
       "\t<tr><td>  2</td><td>96</td></tr>\n",
       "\t<tr><td>  3</td><td> 4</td></tr>\n",
       "\t<tr><td>  6</td><td> 1</td></tr>\n",
       "\t<tr><td>  7</td><td> 1</td></tr>\n",
       "\t<tr><td> 18</td><td> 1</td></tr>\n",
       "\t<tr><td>196</td><td> 1</td></tr>\n",
       "</tbody>\n",
       "</table>\n"
      ],
      "text/latex": [
       "A tibble: 6 × 2\n",
       "\\begin{tabular}{r|ll}\n",
       " n\\_records & n\\_patients\\\\\n",
       " <int> & <int>\\\\\n",
       "\\hline\n",
       "\t   2 & 96\\\\\n",
       "\t   3 &  4\\\\\n",
       "\t   6 &  1\\\\\n",
       "\t   7 &  1\\\\\n",
       "\t  18 &  1\\\\\n",
       "\t 196 &  1\\\\\n",
       "\\end{tabular}\n"
      ],
      "text/markdown": [
       "\n",
       "A tibble: 6 × 2\n",
       "\n",
       "| n_records &lt;int&gt; | n_patients &lt;int&gt; |\n",
       "|---|---|\n",
       "|   2 | 96 |\n",
       "|   3 |  4 |\n",
       "|   6 |  1 |\n",
       "|   7 |  1 |\n",
       "|  18 |  1 |\n",
       "| 196 |  1 |\n",
       "\n"
      ],
      "text/plain": [
       "  n_records n_patients\n",
       "1   2       96        \n",
       "2   3        4        \n",
       "3   6        1        \n",
       "4   7        1        \n",
       "5  18        1        \n",
       "6 196        1        "
      ]
     },
     "metadata": {},
     "output_type": "display_data"
    },
    {
     "data": {
      "text/html": [
       "0"
      ],
      "text/latex": [
       "0"
      ],
      "text/markdown": [
       "0"
      ],
      "text/plain": [
       "[1] 0"
      ]
     },
     "metadata": {},
     "output_type": "display_data"
    }
   ],
   "source": [
    "\n",
    "## Identify Duplicates\n",
    "##Searches onces from the top down and once from the bottom up.\n",
    "##Adds \"dups\" variable to the df where duplicate is TRUE \n",
    "df$dups <- duplicated(pull(df, PATIENT_ID)) | duplicated(pull(df,PATIENT_ID),fromLast=TRUE)\n",
    "\n",
    "\n",
    "#Extracts Duplicates where TRUE\n",
    "dup_df <- df[df$dups == \"TRUE\", ]\n",
    "\n",
    "#431 duplicates identified\n",
    "dim(dup_df)\n",
    "\n",
    "\n",
    "#Number of rows with at least one repeating PATIENT_ID and \n",
    "#number of unique repeating PATIENT_IDs row(dup_df)\n",
    "\n",
    "length(unique(dup_df$PATIENT_ID))\n",
    "dim(df[duplicated(df$PATIENT_ID, fromLast = TRUE),]) \n",
    "dim(df[duplicated(df$PATIENT_ID),]) \n",
    "\n",
    "dup_summary <-  dup_df %>% \n",
    "                group_by(PATIENT_ID) %>% \n",
    "                summarise(n_records = length(PATIENT_ID))\n",
    "\n",
    "n_patients_per_dup_n  <-  dup_summary %>% \n",
    "                            group_by(n_records) %>% \n",
    "                            summarize(n_patients = n())\n",
    "n_patients_per_dup_n \n",
    "\n",
    "#all records for patients with multiple records get filtered out,\n",
    "#rather than keeping one record in\n",
    "\n",
    "sum(df$PATIENT_ID[!df$dups] %in% dup_df$PATIENT_ID)"
   ]
  }
 ],
 "metadata": {
  "kernelspec": {
   "display_name": "R",
   "language": "R",
   "name": "ir"
  },
  "language_info": {
   "codemirror_mode": "r",
   "file_extension": ".r",
   "mimetype": "text/x-r-source",
   "name": "R",
   "pygments_lexer": "r",
   "version": "3.6.0"
  }
 },
 "nbformat": 4,
 "nbformat_minor": 2
}
